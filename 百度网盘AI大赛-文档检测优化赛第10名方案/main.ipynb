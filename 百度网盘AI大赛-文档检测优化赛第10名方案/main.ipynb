{
 "cells": [
  {
   "cell_type": "markdown",
   "metadata": {
    "jupyter": {
     "outputs_hidden": false
    }
   },
   "source": [
    "# 百度网盘AI大赛-图像处理挑战赛：文档检测优化赛\n",
    "\n",
    "基于[Baseline](https://aistudio.baidu.com/aistudio/projectdetail/3861946)，我们替换backbone，使用预训练好的模型Res2Net101_vd_26w_4s来回归图像中文档的拐角坐标完成百度网盘AI大赛-图像处理挑战赛：文档检测优化赛。\n",
    "\n",
    "[比赛链接](https://aistudio.baidu.com/aistudio/competition/detail/207/0/introduction)\n",
    "\n",
    "## 比赛介绍\n",
    "\n",
    "生活中人们使用手机进行文档扫描逐渐成为一件普遍的事情，为了提高人们的使用体验，我们期望通过算法技术去除杂乱的拍摄背景并精准框取文档边缘，选手需要通过深度学习技术训练模型，对给定的真实场景下采集得到的带有拍摄背景的文件图片进行边缘智能识别，并最终输出处理后的扫描结果图片。\n",
    "\n",
    "### 评测方式说明\n",
    "\n",
    "1. 参赛选手提交的代码和模型只预测文档边缘的heatmap图，由后台评测脚本中预置的算法回归出文档区域的四个角的坐标点，并生成规则的四边形，与GT计算IoU值；\n",
    "2. 参赛选手提交的代码和模型直接回归文档区域的四个角的坐标点，并生成规则的四边形，与GT计算IoU值。 注：两种评测方式的结果会放在一个排行榜内，评测脚本中预置的角点回归算法会存在一定的局限性，如果各位参赛选手希望获得更高的分数，建议采用第二种评测方式。\n",
    "\n",
    "## 任务分析\n",
    "\n",
    "本次比赛要求选手设计算法在给定图片中划定一块**四边形区域**，以尽可能与图片中的文档部分重合。\n",
    "\n",
    "因此，本次任务可以同时看作**回归问题**和**分割问题**。\n",
    "\n",
    "- 作为回归问题，需要设计学习器/其他方法寻找四边形的四个拐角坐标\n",
    "- 作为分割问题，直接将数据中的segments作为标签训练对应的分割学习器即可\n",
    "\n",
    "本项目将本次任务看作回归问题来处理，使用Res2Net101_vd_26w_4s+注意力双分支Linear层的网络结构回归四个角的坐标。\n",
    "\n",
    "# 代码部分\n",
    "\n",
    "## 获取数据\n",
    "\n",
    "\n"
   ]
  },
  {
   "cell_type": "code",
   "execution_count": null,
   "metadata": {
    "scrolled": true
   },
   "outputs": [],
   "source": [
    "! wget https://staticsns.cdn.bcebos.com/amis/2022-4/1649731549425/train_datasets_document_detection_0411.zip\r\n",
    "! unzip -oq /home/aistudio/train_datasets_document_detection_0411.zip\r\n",
    "! rm -rf __MACOSX\r\n",
    "! rm -rf /home/aistudio/train_datasets_document_detection_0411.zip"
   ]
  },
  {
   "cell_type": "markdown",
   "metadata": {},
   "source": [
    "## 构造数据读取器\n",
    "\n",
    "通过paddle.io.dataset构造读取器，便于读取数据。\n",
    "\n",
    "数据预处理包括：\n",
    "1. 根据data_info的边缘轮廓信息分别提取四个拐角的位置。\n",
    "2. 对图片进行resize和数据增强（调整明暗对比度等参数）"
   ]
  },
  {
   "cell_type": "markdown",
   "metadata": {},
   "source": [
    "### 查看数据"
   ]
  },
  {
   "cell_type": "code",
   "execution_count": 1,
   "metadata": {
    "execution": {
     "iopub.execute_input": "2022-05-25T02:14:41.143939Z",
     "iopub.status.busy": "2022-05-25T02:14:41.143459Z",
     "iopub.status.idle": "2022-05-25T02:14:41.150571Z",
     "shell.execute_reply": "2022-05-25T02:14:41.149943Z",
     "shell.execute_reply.started": "2022-05-25T02:14:41.143896Z"
    },
    "scrolled": true,
    "tags": []
   },
   "outputs": [],
   "source": [
    "def get_corner(positions, corner_flag, w, h):\n",
    "    # corner_flag 1:top_left 2:top_right 3:bottom_right 4:bottom_left\n",
    "        if corner_flag == 1:\n",
    "            target_pos = [0,0]\n",
    "        elif corner_flag == 2 :\n",
    "            target_pos = [w,0]\n",
    "        elif corner_flag == 3 :\n",
    "            target_pos = [w,h]\n",
    "        elif corner_flag == 4 :\n",
    "            target_pos = [0,h]\n",
    "\n",
    "        min_dis = h**2+w**2\n",
    "        best_x = 0\n",
    "        best_y = 0\n",
    "        for pos in positions:\n",
    "            now_dis = (pos[0]-target_pos[0])**2+(pos[1]-target_pos[1])**2\n",
    "            if now_dis<min_dis:\n",
    "                min_dis = now_dis\n",
    "                corner_x = pos[0]\n",
    "                corner_y = pos[1]\n",
    "        \n",
    "        return corner_x, corner_y"
   ]
  },
  {
   "cell_type": "code",
   "execution_count": 2,
   "metadata": {
    "execution": {
     "iopub.execute_input": "2022-05-25T02:14:43.320336Z",
     "iopub.status.busy": "2022-05-25T02:14:43.319650Z",
     "iopub.status.idle": "2022-05-25T02:14:43.569079Z",
     "shell.execute_reply": "2022-05-25T02:14:43.568318Z",
     "shell.execute_reply.started": "2022-05-25T02:14:43.320296Z"
    },
    "scrolled": true,
    "tags": []
   },
   "outputs": [],
   "source": [
    "import os, cv2\n",
    "import numpy as np\n",
    "\n",
    "train_imgs_dir = '/home/aistudio/train_datasets_document_detection_0411/images/'\n",
    "train_txt = '/home/aistudio/train_datasets_document_detection_0411/data_info.txt'\n",
    "data_info = []\n",
    "with open(train_txt,'r') as f:\n",
    "    for line in f:\n",
    "        line = line.strip().split(',')\n",
    "        image_name = line[0]\n",
    "        img = cv2.imread(os.path.join(train_imgs_dir, image_name+'.jpg'))\n",
    "        h, w, c = img.shape\n",
    "\n",
    "        positions = []\n",
    "        for i in range(1,len(line),2):\n",
    "            positions.append([float(line[i]), float(line[i+1])])\n",
    "        label = []\n",
    "        for i in range(4):\n",
    "            corner_x, corner_y = get_corner(positions, i+1, w, h)\n",
    "            label.append(corner_x)\n",
    "            label.append(corner_y)\n",
    "\n",
    "        data_info.append((image_name+'.jpg', label, (w, h)))\n",
    "\n",
    "        break"
   ]
  },
  {
   "cell_type": "code",
   "execution_count": 3,
   "metadata": {
    "execution": {
     "iopub.execute_input": "2022-05-25T02:14:45.437818Z",
     "iopub.status.busy": "2022-05-25T02:14:45.437333Z",
     "iopub.status.idle": "2022-05-25T02:14:45.785379Z",
     "shell.execute_reply": "2022-05-25T02:14:45.784632Z",
     "shell.execute_reply.started": "2022-05-25T02:14:45.437778Z"
    },
    "scrolled": true,
    "tags": []
   },
   "outputs": [
    {
     "data": {
      "text/plain": [
       "[<matplotlib.lines.Line2D at 0x7f5444baadd0>]"
      ]
     },
     "execution_count": 3,
     "metadata": {},
     "output_type": "execute_result"
    },
    {
     "data": {
      "image/png": "[encoded data removed]",
      "text/plain": [
       "<Figure size 432x288 with 1 Axes>"
      ]
     },
     "metadata": {
      "needs_background": "light"
     },
     "output_type": "display_data"
    }
   ],
   "source": [
    "import matplotlib.pyplot as plt\n",
    "%matplotlib inline\n",
    "\n",
    "plt.figure()\n",
    "positions = np.array(positions)\n",
    "label = np.array(label)\n",
    "plt.plot(positions[:, 0], h-positions[:, 1], \"ob\")\n",
    "plt.plot(label[[0, 2, 4, 6, 0]], h-label[[1, 3, 5, 7, 1]], \"r\")"
   ]
  },
  {
   "cell_type": "markdown",
   "metadata": {},
   "source": [
    "我们将数据处理与构造的所有代码存放在work/dataset.py中，实验发现Baseline的数据增强操作的确能够带来少量性能提升"
   ]
  },
  {
   "cell_type": "markdown",
   "metadata": {},
   "source": [
    "## 定义网络结构"
   ]
  },
  {
   "cell_type": "markdown",
   "metadata": {
    "execution": {
     "iopub.execute_input": "2022-05-15T15:31:42.224440Z",
     "iopub.status.busy": "2022-05-15T15:31:42.224039Z",
     "iopub.status.idle": "2022-05-15T15:31:42.229475Z",
     "shell.execute_reply": "2022-05-15T15:31:42.228930Z",
     "shell.execute_reply.started": "2022-05-15T15:31:42.224405Z"
    },
    "tags": []
   },
   "source": [
    "我们认为强大的backbone有助于性能的提升，在保证满足要求的推理时间下，我们选择了预训练的resnet18、resnet50、resnet152、Res2Net101_vd_26w_4s作为backbone来选取较优的模型，在A榜的成绩证实了在Imagenet上效果更好的Res2Net101_vd_26w_4s在本次任务上性能更优。我们实验发现单分支的Linear层预测的角点坐标，不如以注意力值为权重双分支求和的双分支Linear层的预测效果好，有种按样本自适应集成的效果。\n",
    "```\n",
    "class MyNet(paddle.nn.Layer):\n",
    "    def __init__(self):\n",
    "        super(MyNet,self).__init__()\n",
    "        self.backbone = Res2Net_vd(layers=101, scales=4, width=26)\n",
    "        state_dict = paddle.load(\"Res2Net101_vd_26w_4s_ssld_pretrained.pdparams\")\n",
    "        self.backbone.set_state_dict(state_dict)\n",
    "        self.fc1 = paddle.nn.Linear(self.backbone.pool2d_avg_channels, 8)\n",
    "        self.fc2 = paddle.nn.Linear(self.backbone.pool2d_avg_channels, 8)\n",
    "\n",
    "        self.attn = paddle.nn.Sequential(\n",
    "            paddle.nn.ReLU(),\n",
    "            paddle.nn.Linear(8, 32),\n",
    "            paddle.nn.ReLU(),\n",
    "            paddle.nn.Linear(32, 8),\n",
    "            paddle.nn.Sigmoid()\n",
    "            )\n",
    "\n",
    "\n",
    "    def forward(self, img):\n",
    "        y = self.backbone(img)\n",
    "        y1 = self.fc1(y)\n",
    "        y2 = self.fc2(y)\n",
    "\n",
    "        coef = self.attn(y1+y2)\n",
    "        y = y1*coef+y2*(1.-coef)\n",
    "\n",
    "        return y\n",
    "```"
   ]
  },
  {
   "cell_type": "markdown",
   "metadata": {},
   "source": [
    "完整代码见work/model.py"
   ]
  },
  {
   "cell_type": "markdown",
   "metadata": {},
   "source": [
    "## 训练\n",
    "与Baseline不同，我们定义了模型性能度量标准miou，实验发现L1Loss要优于L2Loss，使用了更多的epochs，选用了相对更大的初始学习率，并对优化器和学习率衰减函数进行探索，最终使用Adam优化器及余弦衰减。\n",
    "\n",
    "```\n",
    "def cal_miou(bs, h, w, pred, label, mode='mean'):\n",
    "    miou = 0\n",
    "    for i in range(bs):\n",
    "        mask_pre = Image.new('L', (w, h), 0)\n",
    "        draw = ImageDraw.Draw(mask_pre, 'L')\n",
    "        corner_xy = [(pred[i, j]*w, pred[i, j+1]*h) for j in range(0, 8, 2)]\n",
    "        draw.polygon(corner_xy, fill=1)\n",
    "        mask_pre = np.array(mask_pre, dtype=np.float32)\n",
    "\n",
    "        mask_gt = Image.new('L', (w, h), 0)\n",
    "        draw = ImageDraw.Draw(mask_gt, 'L')\n",
    "        corner_xy = [(label[i, j]*w, label[i, j+1]*h) for j in range(0, 8, 2)]\n",
    "        draw.polygon(corner_xy, fill=1)\n",
    "        mask_gt = np.array(mask_gt, dtype=np.float32)\n",
    "\n",
    "        mul = (mask_gt*mask_pre).sum()\n",
    "        iou = mul/(mask_gt.sum()+mask_pre.sum()-mul)\n",
    "        miou = miou+iou\n",
    "\n",
    "    if mode==\"mean\":\n",
    "        return miou/bs\n",
    "    elif mode==\"sum\":\n",
    "        return miou\n",
    "```\n",
    "```\n",
    "criterion = paddle.nn.L1Loss()#MSELoss()\n",
    "```"
   ]
  },
  {
   "cell_type": "code",
   "execution_count": null,
   "metadata": {
    "scrolled": true
   },
   "outputs": [],
   "source": [
    "#划分训练集、验证集训练\r\n",
    "%cd work/\r\n",
    "!python main.py --save_dir output/train_val --epochs 100 --learning_rate 3.0e-4 --use_schedule True --train_ratio 0.8\r\n",
    "%cd ../"
   ]
  },
  {
   "cell_type": "code",
   "execution_count": null,
   "metadata": {
    "scrolled": true
   },
   "outputs": [],
   "source": [
    "#全料数据训练\r\n",
    "%cd work/\r\n",
    "!python main.py --save_dir output/all_data --epochs 100 --learning_rate 3.0e-4 --use_schedule True\r\n",
    "%cd ../"
   ]
  },
  {
   "cell_type": "markdown",
   "metadata": {},
   "source": [
    "## 打包提交\n",
    "\n",
    "本题目提交需要提交对应的模型和预测文件。predict.py需要读取同目录下的模型信息，并预测坐标点-保存为json或预测分割后的图片-保存为图片形式。\n",
    "\n",
    "想要自定义训练模型，只需要将predict.py中的模型和process函数中的do something 替换为自己的模型内容即可。\n",
    "\n",
    "**提交分割模型时，取消predict中52行的注释部分即可保存分割后的图片信息**\n",
    "\n",
    "**注意model.eval()不要漏掉，不然分数会下降10个点左右**"
   ]
  },
  {
   "cell_type": "code",
   "execution_count": 6,
   "metadata": {
    "execution": {
     "iopub.execute_input": "2022-05-13T13:52:46.534567Z",
     "iopub.status.busy": "2022-05-13T13:52:46.534059Z",
     "iopub.status.idle": "2022-05-13T13:52:58.427547Z",
     "shell.execute_reply": "2022-05-13T13:52:58.426417Z",
     "shell.execute_reply.started": "2022-05-13T13:52:46.534524Z"
    },
    "scrolled": true,
    "tags": []
   },
   "outputs": [
    {
     "name": "stdout",
     "output_type": "stream",
     "text": [
      "  adding: model.pdparams (deflated 7%)\n",
      "  adding: predict.py (deflated 54%)\n"
     ]
    }
   ],
   "source": [
    "# 压缩可提交文件\n",
    "! zip submit_detection.zip model_best.pdparams predict.py"
   ]
  },
  {
   "cell_type": "markdown",
   "metadata": {},
   "source": [
    "# 总结\n",
    "本项目使用极简的方式完成了百度网盘AI大赛-图像处理挑战赛：文档检测优化赛，但仍有改进的空间。比如：\n",
    "1. 本项目使用了Res2Net101_vd_26w_4s网络，可以尝试其他backbone。\n",
    "2. 本项目使用的loss为L1loss，可以探索其他loss。\n"
   ]
  }
 ],
 "metadata": {
  "kernelspec": {
   "display_name": "Python 3",
   "language": "python",
   "name": "py35-paddle1.2.0"
  },
  "language_info": {
   "codemirror_mode": {
    "name": "ipython",
    "version": 3
   },
   "file_extension": ".py",
   "mimetype": "text/x-python",
   "name": "python",
   "nbconvert_exporter": "python",
   "pygments_lexer": "ipython3",
   "version": "3.7.4"
  }
 },
 "nbformat": 4,
 "nbformat_minor": 4
}
